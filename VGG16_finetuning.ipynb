{
  "cells": [
    {
      "cell_type": "code",
      "execution_count": 1,
      "metadata": {
        "id": "kHPcoXWur4vb"
      },
      "outputs": [],
      "source": [
        "import tensorflow as tf\n",
        "from tensorflow import keras\n",
        "from tensorflow.keras import layers\n",
        "import matplotlib.pyplot as plt"
      ]
    },
    {
      "cell_type": "code",
      "execution_count": 2,
      "metadata": {
        "colab": {
          "base_uri": "https://localhost:8080/"
        },
        "id": "c-jZu9wLsG7T",
        "outputId": "6ba3ac75-da70-481e-e762-9876f48f7e3c"
      },
      "outputs": [
        {
          "output_type": "stream",
          "name": "stdout",
          "text": [
            "Mounted at /content/drive\n"
          ]
        }
      ],
      "source": [
        "from google.colab import drive\n",
        "\n",
        "drive.mount(\"/content/drive\")"
      ]
    },
    {
      "cell_type": "code",
      "execution_count": 3,
      "metadata": {
        "id": "QjPsJGGLsIw3"
      },
      "outputs": [],
      "source": [
        "import pathlib\n",
        "base_dir = pathlib.Path(\"/content/drive/MyDrive/dataset\") #path dataset"
      ]
    },
    {
      "cell_type": "code",
      "execution_count": 4,
      "metadata": {
        "id": "WZf8c9PvsJs5"
      },
      "outputs": [],
      "source": [
        "IMAGE_SIZE = 180\n",
        "BATCH_SIZE = 32"
      ]
    },
    {
      "cell_type": "code",
      "execution_count": 5,
      "metadata": {
        "id": "ojgRz695sKK8"
      },
      "outputs": [],
      "source": [
        "datagen = tf.keras.preprocessing.image.ImageDataGenerator(\n",
        "    rescale = 1./255,\n",
        "    validation_split=0.2\n",
        ")"
      ]
    },
    {
      "cell_type": "code",
      "execution_count": 6,
      "metadata": {
        "colab": {
          "base_uri": "https://localhost:8080/"
        },
        "id": "2lOv_AdgsLnJ",
        "outputId": "fd6efd22-fffe-4b1f-97fd-e62a80e101ae"
      },
      "outputs": [
        {
          "output_type": "stream",
          "name": "stdout",
          "text": [
            "Found 800 images belonging to 2 classes.\n",
            "Found 400 images belonging to 2 classes.\n",
            "Found 600 images belonging to 2 classes.\n"
          ]
        }
      ],
      "source": [
        "train_dataset = datagen.flow_from_directory(\n",
        "    base_dir/'train',\n",
        "    target_size=(IMAGE_SIZE, IMAGE_SIZE),\n",
        "    batch_size = BATCH_SIZE,\n",
        "\n",
        ")\n",
        "validation_dataset = datagen.flow_from_directory(\n",
        "    base_dir/ 'validation',\n",
        "    target_size=(IMAGE_SIZE, IMAGE_SIZE),\n",
        "    batch_size=BATCH_SIZE,\n",
        ")\n",
        "\n",
        "test_dataset = datagen.flow_from_directory(\n",
        "    base_dir/ 'test',\n",
        "    target_size=(IMAGE_SIZE, IMAGE_SIZE),\n",
        "    batch_size=BATCH_SIZE,\n",
        ")"
      ]
    },
    {
      "cell_type": "code",
      "source": [
        "train_dataset.class_indices"
      ],
      "metadata": {
        "id": "JL8aM_dV3w9K",
        "outputId": "6fb82ffc-939e-4082-aefd-29cf82464a78",
        "colab": {
          "base_uri": "https://localhost:8080/"
        }
      },
      "execution_count": 7,
      "outputs": [
        {
          "output_type": "execute_result",
          "data": {
            "text/plain": [
              "{'benign': 0, 'malignent': 1}"
            ]
          },
          "metadata": {},
          "execution_count": 7
        }
      ]
    },
    {
      "cell_type": "code",
      "execution_count": 8,
      "metadata": {
        "id": "8GY8kcShsNwp",
        "colab": {
          "base_uri": "https://localhost:8080/"
        },
        "outputId": "071f77b9-2e73-4b17-f087-252e9569f480"
      },
      "outputs": [
        {
          "output_type": "stream",
          "name": "stdout",
          "text": [
            "Downloading data from https://storage.googleapis.com/tensorflow/keras-applications/vgg16/vgg16_weights_tf_dim_ordering_tf_kernels_notop.h5\n",
            "58889256/58889256 [==============================] - 2s 0us/step\n"
          ]
        }
      ],
      "source": [
        "IMG_SHAPE = (IMAGE_SIZE, IMAGE_SIZE, 3) #180,180, RGB\n",
        "base_model = tf.keras.applications.VGG16(\n",
        "    input_shape=IMG_SHAPE,\n",
        "    include_top=False,\n",
        "    weights='imagenet'\n",
        ")\n",
        "base_model.trainable=False"
      ]
    },
    {
      "cell_type": "code",
      "execution_count": 9,
      "metadata": {
        "id": "CTf3noOZnFQq"
      },
      "outputs": [],
      "source": [
        "# data_augmentation = keras.Sequential(\n",
        "# [\n",
        "#     layers.RandomFlip(\"horizontal\"),\n",
        "#     layers.RandomRotation(0.1),\n",
        "#     layers.RandomZoom(0.2),\n",
        "# ])"
      ]
    },
    {
      "cell_type": "code",
      "execution_count": 10,
      "metadata": {
        "id": "AokD75fZ7beq"
      },
      "outputs": [],
      "source": [
        "model = tf.keras.Sequential([\n",
        "  base_model,\n",
        "  # data_augmentation,\n",
        "  tf.keras.layers.Conv2D(32,3, activation = 'relu'),\n",
        "  tf.keras.layers.Dropout(0.5),\n",
        "  tf.keras.layers.GlobalAveragePooling2D(),\n",
        "  tf.keras.layers.Dense(2, activation='softmax')\n",
        "])\n"
      ]
    },
    {
      "cell_type": "code",
      "execution_count": 11,
      "metadata": {
        "id": "0o5k5Uo17d3t"
      },
      "outputs": [],
      "source": [
        "model.compile(\n",
        "    optimizer=tf.keras.optimizers.Adam(learning_rate=0.0001),\n",
        "     loss='binary_crossentropy',\n",
        "    metrics=['accuracy']\n",
        ")"
      ]
    },
    {
      "cell_type": "code",
      "execution_count": 12,
      "metadata": {
        "id": "oPkkaU9-nEkJ"
      },
      "outputs": [],
      "source": [
        "# model.summary()"
      ]
    },
    {
      "cell_type": "code",
      "execution_count": 13,
      "metadata": {
        "id": "PG_nH_CN09Yy"
      },
      "outputs": [],
      "source": [
        "# tf.keras.utils.plot_model(model, to_file = 'model.jpg', show_shapes = True)"
      ]
    },
    {
      "cell_type": "code",
      "execution_count": 14,
      "metadata": {
        "colab": {
          "base_uri": "https://localhost:8080/"
        },
        "id": "rRRXJWTU7e7A",
        "outputId": "17f165f3-d8c1-4ad8-997f-d2186f612b2e"
      },
      "outputs": [
        {
          "output_type": "stream",
          "name": "stdout",
          "text": [
            "Epoch 1/50\n",
            "25/25 [==============================] - 433s 17s/step - loss: 0.6838 - accuracy: 0.5387 - val_loss: 0.6618 - val_accuracy: 0.7575\n",
            "Epoch 2/50\n",
            "25/25 [==============================] - 5s 196ms/step - loss: 0.6380 - accuracy: 0.7237 - val_loss: 0.6250 - val_accuracy: 0.7775\n",
            "Epoch 3/50\n",
            "25/25 [==============================] - 5s 192ms/step - loss: 0.5977 - accuracy: 0.7600 - val_loss: 0.5979 - val_accuracy: 0.7650\n",
            "Epoch 4/50\n",
            "25/25 [==============================] - 5s 203ms/step - loss: 0.5659 - accuracy: 0.7837 - val_loss: 0.5723 - val_accuracy: 0.7850\n",
            "Epoch 5/50\n",
            "25/25 [==============================] - 5s 192ms/step - loss: 0.5348 - accuracy: 0.7987 - val_loss: 0.5513 - val_accuracy: 0.7750\n",
            "Epoch 6/50\n",
            "25/25 [==============================] - 5s 198ms/step - loss: 0.5100 - accuracy: 0.8050 - val_loss: 0.5336 - val_accuracy: 0.7650\n",
            "Epoch 7/50\n",
            "25/25 [==============================] - 5s 205ms/step - loss: 0.4847 - accuracy: 0.8062 - val_loss: 0.5184 - val_accuracy: 0.7675\n",
            "Epoch 8/50\n",
            "25/25 [==============================] - 5s 197ms/step - loss: 0.4720 - accuracy: 0.8037 - val_loss: 0.5047 - val_accuracy: 0.7775\n",
            "Epoch 9/50\n",
            "25/25 [==============================] - 5s 206ms/step - loss: 0.4554 - accuracy: 0.8225 - val_loss: 0.4911 - val_accuracy: 0.7825\n",
            "Epoch 10/50\n",
            "25/25 [==============================] - 5s 191ms/step - loss: 0.4366 - accuracy: 0.8150 - val_loss: 0.4798 - val_accuracy: 0.8175\n",
            "Epoch 11/50\n",
            "25/25 [==============================] - 5s 189ms/step - loss: 0.4332 - accuracy: 0.8275 - val_loss: 0.4728 - val_accuracy: 0.8275\n",
            "Epoch 12/50\n",
            "25/25 [==============================] - 5s 203ms/step - loss: 0.4241 - accuracy: 0.8250 - val_loss: 0.4640 - val_accuracy: 0.8325\n",
            "Epoch 13/50\n",
            "25/25 [==============================] - 5s 192ms/step - loss: 0.4051 - accuracy: 0.8325 - val_loss: 0.4542 - val_accuracy: 0.8175\n",
            "Epoch 14/50\n",
            "25/25 [==============================] - 5s 202ms/step - loss: 0.3975 - accuracy: 0.8388 - val_loss: 0.4464 - val_accuracy: 0.8175\n",
            "Epoch 15/50\n",
            "25/25 [==============================] - 5s 196ms/step - loss: 0.3884 - accuracy: 0.8550 - val_loss: 0.4425 - val_accuracy: 0.8175\n",
            "Epoch 16/50\n",
            "25/25 [==============================] - 5s 191ms/step - loss: 0.3840 - accuracy: 0.8450 - val_loss: 0.4358 - val_accuracy: 0.8150\n",
            "Epoch 17/50\n",
            "25/25 [==============================] - 5s 205ms/step - loss: 0.3760 - accuracy: 0.8612 - val_loss: 0.4288 - val_accuracy: 0.8275\n",
            "Epoch 18/50\n",
            "25/25 [==============================] - 5s 191ms/step - loss: 0.3651 - accuracy: 0.8625 - val_loss: 0.4252 - val_accuracy: 0.8300\n",
            "Epoch 19/50\n",
            "25/25 [==============================] - 5s 194ms/step - loss: 0.3607 - accuracy: 0.8612 - val_loss: 0.4197 - val_accuracy: 0.8325\n",
            "Epoch 20/50\n",
            "25/25 [==============================] - 5s 202ms/step - loss: 0.3529 - accuracy: 0.8712 - val_loss: 0.4148 - val_accuracy: 0.8325\n",
            "Epoch 21/50\n",
            "25/25 [==============================] - 5s 185ms/step - loss: 0.3496 - accuracy: 0.8700 - val_loss: 0.4191 - val_accuracy: 0.8325\n",
            "Epoch 22/50\n",
            "25/25 [==============================] - 6s 233ms/step - loss: 0.3407 - accuracy: 0.8737 - val_loss: 0.4143 - val_accuracy: 0.8350\n",
            "Epoch 23/50\n",
            "25/25 [==============================] - 5s 193ms/step - loss: 0.3399 - accuracy: 0.8600 - val_loss: 0.4134 - val_accuracy: 0.8300\n",
            "Epoch 24/50\n",
            "25/25 [==============================] - 5s 194ms/step - loss: 0.3403 - accuracy: 0.8700 - val_loss: 0.3986 - val_accuracy: 0.8475\n",
            "Epoch 25/50\n",
            "25/25 [==============================] - 5s 200ms/step - loss: 0.3337 - accuracy: 0.8712 - val_loss: 0.3974 - val_accuracy: 0.8450\n",
            "Epoch 26/50\n",
            "25/25 [==============================] - 5s 185ms/step - loss: 0.3224 - accuracy: 0.8750 - val_loss: 0.4036 - val_accuracy: 0.8325\n",
            "Epoch 27/50\n",
            "25/25 [==============================] - 6s 236ms/step - loss: 0.3236 - accuracy: 0.8800 - val_loss: 0.3938 - val_accuracy: 0.8425\n",
            "Epoch 28/50\n",
            "25/25 [==============================] - 5s 193ms/step - loss: 0.3128 - accuracy: 0.8813 - val_loss: 0.3860 - val_accuracy: 0.8525\n",
            "Epoch 29/50\n",
            "25/25 [==============================] - 5s 185ms/step - loss: 0.3057 - accuracy: 0.8825 - val_loss: 0.3878 - val_accuracy: 0.8500\n",
            "Epoch 30/50\n",
            "25/25 [==============================] - 5s 197ms/step - loss: 0.3080 - accuracy: 0.8963 - val_loss: 0.3940 - val_accuracy: 0.8375\n",
            "Epoch 31/50\n",
            "25/25 [==============================] - 5s 186ms/step - loss: 0.3014 - accuracy: 0.8913 - val_loss: 0.3964 - val_accuracy: 0.8350\n",
            "Epoch 32/50\n",
            "25/25 [==============================] - 6s 227ms/step - loss: 0.2964 - accuracy: 0.8900 - val_loss: 0.3755 - val_accuracy: 0.8600\n",
            "Epoch 33/50\n",
            "25/25 [==============================] - 5s 191ms/step - loss: 0.2924 - accuracy: 0.8888 - val_loss: 0.3774 - val_accuracy: 0.8525\n",
            "Epoch 34/50\n",
            "25/25 [==============================] - 5s 193ms/step - loss: 0.2877 - accuracy: 0.8963 - val_loss: 0.3713 - val_accuracy: 0.8600\n",
            "Epoch 35/50\n",
            "25/25 [==============================] - 5s 194ms/step - loss: 0.2951 - accuracy: 0.8875 - val_loss: 0.3841 - val_accuracy: 0.8425\n",
            "Epoch 36/50\n",
            "25/25 [==============================] - 6s 226ms/step - loss: 0.2815 - accuracy: 0.9050 - val_loss: 0.3676 - val_accuracy: 0.8600\n",
            "Epoch 37/50\n",
            "25/25 [==============================] - 5s 189ms/step - loss: 0.2762 - accuracy: 0.8963 - val_loss: 0.3710 - val_accuracy: 0.8525\n",
            "Epoch 38/50\n",
            "25/25 [==============================] - 5s 193ms/step - loss: 0.2763 - accuracy: 0.9013 - val_loss: 0.3706 - val_accuracy: 0.8550\n",
            "Epoch 39/50\n",
            "25/25 [==============================] - 5s 189ms/step - loss: 0.2786 - accuracy: 0.8988 - val_loss: 0.3748 - val_accuracy: 0.8475\n",
            "Epoch 40/50\n",
            "25/25 [==============================] - 6s 232ms/step - loss: 0.2702 - accuracy: 0.8963 - val_loss: 0.3587 - val_accuracy: 0.8575\n",
            "Epoch 41/50\n",
            "25/25 [==============================] - 5s 184ms/step - loss: 0.2627 - accuracy: 0.9100 - val_loss: 0.3587 - val_accuracy: 0.8625\n",
            "Epoch 42/50\n",
            "25/25 [==============================] - 5s 185ms/step - loss: 0.2644 - accuracy: 0.9087 - val_loss: 0.3629 - val_accuracy: 0.8600\n",
            "Epoch 43/50\n",
            "25/25 [==============================] - 6s 229ms/step - loss: 0.2586 - accuracy: 0.9137 - val_loss: 0.3581 - val_accuracy: 0.8625\n",
            "Epoch 44/50\n",
            "25/25 [==============================] - 5s 192ms/step - loss: 0.2652 - accuracy: 0.9087 - val_loss: 0.3511 - val_accuracy: 0.8500\n",
            "Epoch 45/50\n",
            "25/25 [==============================] - 5s 193ms/step - loss: 0.2571 - accuracy: 0.9025 - val_loss: 0.3593 - val_accuracy: 0.8600\n",
            "Epoch 46/50\n",
            "25/25 [==============================] - 5s 190ms/step - loss: 0.2513 - accuracy: 0.9175 - val_loss: 0.3557 - val_accuracy: 0.8600\n",
            "Epoch 47/50\n",
            "25/25 [==============================] - 6s 229ms/step - loss: 0.2490 - accuracy: 0.9137 - val_loss: 0.3505 - val_accuracy: 0.8625\n",
            "Epoch 48/50\n",
            "25/25 [==============================] - 5s 204ms/step - loss: 0.2426 - accuracy: 0.9237 - val_loss: 0.3445 - val_accuracy: 0.8575\n",
            "Epoch 49/50\n",
            "25/25 [==============================] - 5s 182ms/step - loss: 0.2383 - accuracy: 0.9150 - val_loss: 0.3481 - val_accuracy: 0.8625\n",
            "Epoch 50/50\n",
            "25/25 [==============================] - 5s 186ms/step - loss: 0.2400 - accuracy: 0.9162 - val_loss: 0.3478 - val_accuracy: 0.8625\n"
          ]
        }
      ],
      "source": [
        "callbacks = [\n",
        "    keras.callbacks.ModelCheckpoint(\n",
        "        filepath= base_dir / \"VGG16.keras\",\n",
        "        save_best_only=True,\n",
        "        monitor=\"val_loss\")\n",
        "]\n",
        "\n",
        "history = model.fit(\n",
        "    train_dataset,\n",
        "    epochs= 50 ,\n",
        "    validation_data=validation_dataset,\n",
        "    callbacks=callbacks\n",
        ")"
      ]
    },
    {
      "cell_type": "code",
      "execution_count": 15,
      "metadata": {
        "id": "1fIzeaNc7hHG",
        "colab": {
          "base_uri": "https://localhost:8080/",
          "height": 887
        },
        "outputId": "28c936ee-7f2c-4daa-ed90-672c8bb50835"
      },
      "outputs": [
        {
          "output_type": "display_data",
          "data": {
            "text/plain": [
              "<Figure size 640x480 with 1 Axes>"
            ],
            "image/png": "[encoded data removed]"
          },
          "metadata": {}
        },
        {
          "output_type": "display_data",
          "data": {
            "text/plain": [
              "<Figure size 640x480 with 1 Axes>"
            ],
            "image/png": "[encoded data removed]"
          },
          "metadata": {}
        }
      ],
      "source": [
        "accuracy = history.history[\"accuracy\"]\n",
        "val_accuracy = history.history[\"val_accuracy\"]\n",
        "loss = history.history[\"loss\"]\n",
        "val_loss = history.history[\"val_loss\"]\n",
        "epochs = range(1, len(accuracy) + 1)\n",
        "plt.plot(epochs, accuracy, \"bo\", label=\"Training accuracy\")\n",
        "plt.plot(epochs, val_accuracy, \"b\", label=\"Validation accuracy\")\n",
        "plt.title(\"Training and validation accuracy\")\n",
        "plt.legend()\n",
        "plt.figure()\n",
        "plt.plot(epochs, loss, \"bo\", label=\"Training loss\")\n",
        "plt.plot(epochs, val_loss, \"b\", label=\"Validation loss\")\n",
        "plt.title(\"Training and validation loss\")\n",
        "plt.legend()\n",
        "plt.show()"
      ]
    },
    {
      "cell_type": "code",
      "execution_count": 16,
      "metadata": {
        "id": "WsDzlVJo7iQd",
        "colab": {
          "base_uri": "https://localhost:8080/"
        },
        "outputId": "0afb1661-45a3-4129-add8-9104d0071457"
      },
      "outputs": [
        {
          "output_type": "stream",
          "name": "stdout",
          "text": [
            "19/19 [==============================] - 311s 17s/step - loss: 0.4153 - accuracy: 0.8250\n",
            "Test accuracy: 0.825\n"
          ]
        }
      ],
      "source": [
        "test_model_2 = keras.models.load_model(base_dir /  \"VGG16.keras\")\n",
        "test_loss, test_acc = test_model_2.evaluate(test_dataset)\n",
        "print(f\"Test accuracy: {test_acc:.3f}\")"
      ]
    },
    {
      "cell_type": "markdown",
      "source": [
        "### Create file label.txt and convert file model to tflite"
      ],
      "metadata": {
        "id": "R0IAplo05i7C"
      }
    },
    {
      "cell_type": "code",
      "source": [
        "import os #for file management\n",
        "from google.colab import files\n"
      ],
      "metadata": {
        "id": "XT2Q9RVp5Z8Z"
      },
      "execution_count": 17,
      "outputs": []
    },
    {
      "cell_type": "code",
      "source": [
        "print(train_dataset.class_indices)\n",
        "labels = '\\n'.join(sorted(train_dataset.class_indices.keys()))\n",
        "with open('labels.txt', 'w') as f:\n",
        "    f.write(labels)"
      ],
      "metadata": {
        "id": "xzMMryZJ5KOA",
        "colab": {
          "base_uri": "https://localhost:8080/"
        },
        "outputId": "cdb619c4-6e29-48e8-da0b-182f512d7ccd"
      },
      "execution_count": 18,
      "outputs": [
        {
          "output_type": "stream",
          "name": "stdout",
          "text": [
            "{'benign': 0, 'malignent': 1}\n"
          ]
        }
      ]
    },
    {
      "cell_type": "code",
      "source": [
        "model = tf.keras.models.load_model(base_dir/\"VGG16.keras\")\n",
        "converter = tf.lite.TFLiteConverter.from_keras_model(model)\n",
        "tflmodel = converter.convert()\n",
        "file = open( 'model.tflite' , 'wb' )\n",
        "file.write( tflmodel )"
      ],
      "metadata": {
        "id": "-Ua-EZ2I5LdW",
        "colab": {
          "base_uri": "https://localhost:8080/"
        },
        "outputId": "2ed69739-2fbc-4a0b-e1dd-c60a2a7452db"
      },
      "execution_count": 23,
      "outputs": [
        {
          "output_type": "stream",
          "name": "stderr",
          "text": [
            "WARNING:absl:Found untraced functions such as _jit_compiled_convolution_op, _update_step_xla, _jit_compiled_convolution_op, _jit_compiled_convolution_op, _jit_compiled_convolution_op while saving (showing 5 of 15). These functions will not be directly callable after loading.\n"
          ]
        },
        {
          "output_type": "execute_result",
          "data": {
            "text/plain": [
              "59459532"
            ]
          },
          "metadata": {},
          "execution_count": 23
        }
      ]
    },
    {
      "cell_type": "code",
      "source": [
        "files.download('model.tflite')\n",
        "files.download('labels.txt')"
      ],
      "metadata": {
        "id": "SJAvPjPM5yw7",
        "colab": {
          "base_uri": "https://localhost:8080/",
          "height": 17
        },
        "outputId": "13d67823-cb78-44ed-8c54-8fbab69795cf"
      },
      "execution_count": 24,
      "outputs": [
        {
          "output_type": "display_data",
          "data": {
            "text/plain": [
              "<IPython.core.display.Javascript object>"
            ],
            "application/javascript": [
              "\n",
              "    async function download(id, filename, size) {\n",
              "      if (!google.colab.kernel.accessAllowed) {\n",
              "        return;\n",
              "      }\n",
              "      const div = document.createElement('div');\n",
              "      const label = document.createElement('label');\n",
              "      label.textContent = `Downloading \"${filename}\": `;\n",
              "      div.appendChild(label);\n",
              "      const progress = document.createElement('progress');\n",
              "      progress.max = size;\n",
              "      div.appendChild(progress);\n",
              "      document.body.appendChild(div);\n",
              "\n",
              "      const buffers = [];\n",
              "      let downloaded = 0;\n",
              "\n",
              "      const channel = await google.colab.kernel.comms.open(id);\n",
              "      // Send a message to notify the kernel that we're ready.\n",
              "      channel.send({})\n",
              "\n",
              "      for await (const message of channel.messages) {\n",
              "        // Send a message to notify the kernel that we're ready.\n",
              "        channel.send({})\n",
              "        if (message.buffers) {\n",
              "          for (const buffer of message.buffers) {\n",
              "            buffers.push(buffer);\n",
              "            downloaded += buffer.byteLength;\n",
              "            progress.value = downloaded;\n",
              "          }\n",
              "        }\n",
              "      }\n",
              "      const blob = new Blob(buffers, {type: 'application/binary'});\n",
              "      const a = document.createElement('a');\n",
              "      a.href = window.URL.createObjectURL(blob);\n",
              "      a.download = filename;\n",
              "      div.appendChild(a);\n",
              "      a.click();\n",
              "      div.remove();\n",
              "    }\n",
              "  "
            ]
          },
          "metadata": {}
        },
        {
          "output_type": "display_data",
          "data": {
            "text/plain": [
              "<IPython.core.display.Javascript object>"
            ],
            "application/javascript": [
              "download(\"download_d610dad5-f774-4513-b34e-ae11df9c2d4f\", \"model.tflite\", 59459532)"
            ]
          },
          "metadata": {}
        },
        {
          "output_type": "display_data",
          "data": {
            "text/plain": [
              "<IPython.core.display.Javascript object>"
            ],
            "application/javascript": [
              "\n",
              "    async function download(id, filename, size) {\n",
              "      if (!google.colab.kernel.accessAllowed) {\n",
              "        return;\n",
              "      }\n",
              "      const div = document.createElement('div');\n",
              "      const label = document.createElement('label');\n",
              "      label.textContent = `Downloading \"${filename}\": `;\n",
              "      div.appendChild(label);\n",
              "      const progress = document.createElement('progress');\n",
              "      progress.max = size;\n",
              "      div.appendChild(progress);\n",
              "      document.body.appendChild(div);\n",
              "\n",
              "      const buffers = [];\n",
              "      let downloaded = 0;\n",
              "\n",
              "      const channel = await google.colab.kernel.comms.open(id);\n",
              "      // Send a message to notify the kernel that we're ready.\n",
              "      channel.send({})\n",
              "\n",
              "      for await (const message of channel.messages) {\n",
              "        // Send a message to notify the kernel that we're ready.\n",
              "        channel.send({})\n",
              "        if (message.buffers) {\n",
              "          for (const buffer of message.buffers) {\n",
              "            buffers.push(buffer);\n",
              "            downloaded += buffer.byteLength;\n",
              "            progress.value = downloaded;\n",
              "          }\n",
              "        }\n",
              "      }\n",
              "      const blob = new Blob(buffers, {type: 'application/binary'});\n",
              "      const a = document.createElement('a');\n",
              "      a.href = window.URL.createObjectURL(blob);\n",
              "      a.download = filename;\n",
              "      div.appendChild(a);\n",
              "      a.click();\n",
              "      div.remove();\n",
              "    }\n",
              "  "
            ]
          },
          "metadata": {}
        },
        {
          "output_type": "display_data",
          "data": {
            "text/plain": [
              "<IPython.core.display.Javascript object>"
            ],
            "application/javascript": [
              "download(\"download_67e61112-100c-4495-99d2-7f568567067b\", \"labels.txt\", 16)"
            ]
          },
          "metadata": {}
        }
      ]
    }
  ],
  "metadata": {
    "accelerator": "GPU",
    "colab": {
      "machine_shape": "hm",
      "provenance": [],
      "gpuType": "T4"
    },
    "kernelspec": {
      "display_name": "Python 3",
      "name": "python3"
    },
    "language_info": {
      "name": "python"
    }
  },
  "nbformat": 4,
  "nbformat_minor": 0
}